{
 "cells": [
  {
   "cell_type": "code",
   "execution_count": null,
   "metadata": {
    "collapsed": false
   },
   "outputs": [],
   "source": [
    "#Yields lists of words representing 1 line each\n",
    "def file_to_words(filename):\n",
    "    #Only alphabets and lowercase\n",
    "    def clean_word(word):\n",
    "        return \"\".join([c if (c.isalpha() or c == \"'\") else '' for c in word]).lower()\n",
    "        \n",
    "    with open(filename) as infile:\n",
    "        for line in infile:\n",
    "            #Trim and split\n",
    "            \n",
    "            #No [Singer] tags\n",
    "            \n",
    "            #check if empty\n",
    "\n",
    "            #Clean words\n",
    "\n",
    "            #yield cleaned words\n",
    "\n",
    "            #yield newline\n",
    "            yield '\\n'"
   ]
  },
  {
   "cell_type": "code",
   "execution_count": null,
   "metadata": {
    "collapsed": false
   },
   "outputs": [],
   "source": [
    "list(file_to_words('lyrics/Imagine-dragons-on-top-of-the-world-lyrics.txt'))[:10]"
   ]
  },
  {
   "cell_type": "code",
   "execution_count": null,
   "metadata": {
    "collapsed": false
   },
   "outputs": [],
   "source": [
    "import os\n",
    "def get_all_filenames(directory):\n",
    "    #https://stackoverflow.com/questions/120656/directory-listing-in-python\n",
    "    return os.listdir(directory)"
   ]
  },
  {
   "cell_type": "code",
   "execution_count": null,
   "metadata": {
    "collapsed": false
   },
   "outputs": [],
   "source": [
    "get_all_filenames('lyrics')[:10]"
   ]
  },
  {
   "cell_type": "code",
   "execution_count": null,
   "metadata": {
    "collapsed": true
   },
   "outputs": [],
   "source": [
    "def words_to_bigrams(words):\n",
    "    #Use zip to combine, shifted left, shifted right\n",
    "    return zip(words[:-1], words[1:])"
   ]
  },
  {
   "cell_type": "code",
   "execution_count": null,
   "metadata": {
    "collapsed": false
   },
   "outputs": [],
   "source": [
    "list(words_to_bigrams(['if', 'you', 'love', 'somebody', '\\n', 'better', 'tell', 'them']))"
   ]
  },
  {
   "cell_type": "code",
   "execution_count": null,
   "metadata": {
    "collapsed": true
   },
   "outputs": [],
   "source": []
  },
  {
   "cell_type": "code",
   "execution_count": null,
   "metadata": {
    "collapsed": true
   },
   "outputs": [],
   "source": [
    "def add_bigrams_to_dict(d, bigrams):\n",
    "    #go through bigrams\n",
    "    for bigram in bigrams:\n",
    "        #Extract first and second from bigram\n",
    "\n",
    "        #If first isnt there\n",
    "      \n",
    "        #If second isnt there\n",
    "\n",
    "        #Increment\n",
    "                "
   ]
  },
  {
   "cell_type": "code",
   "execution_count": null,
   "metadata": {
    "collapsed": true
   },
   "outputs": [],
   "source": [
    "from random import randint\n",
    "def random_weighted_key(d):\n",
    "    #calculate total sum\n",
    "\n",
    "    #Choose a random index\n",
    "\n",
    "    for k, v in d.items():\n",
    "        #Update rand value\n",
    "\n",
    "        #See if we've reached the right number\n",
    "\n",
    "        \n",
    "    "
   ]
  },
  {
   "cell_type": "code",
   "execution_count": null,
   "metadata": {
    "collapsed": true
   },
   "outputs": [],
   "source": [
    "def build_count_dict(directory):\n",
    "    count_dict = {}\n",
    "    for filename in get_all_filenames(directory):\n",
    "        full_filename = directory + '/' + filename\n",
    "        bigrams = words_to_bigrams(list(file_to_words(full_filename)))\n",
    "        add_bigrams_to_dict(count_dict, bigrams)\n",
    "    return count_dict"
   ]
  },
  {
   "cell_type": "code",
   "execution_count": null,
   "metadata": {
    "collapsed": false
   },
   "outputs": [],
   "source": [
    "build_count_dict('lyrics')"
   ]
  },
  {
   "cell_type": "code",
   "execution_count": null,
   "metadata": {
    "collapsed": false
   },
   "outputs": [],
   "source": [
    "\n",
    "count_dict = build_count_dict('lyrics')\n",
    "\n",
    "NUM_WORDS = 100\n",
    "START_WORD = '\\n'\n",
    "\n",
    "cur_word = START_WORD\n",
    "for i in range(NUM_WORDS):\n",
    "    print(cur_word, end=\" \")\n",
    "    #move to next word\n"
   ]
  },
  {
   "cell_type": "code",
   "execution_count": null,
   "metadata": {
    "collapsed": true
   },
   "outputs": [],
   "source": []
  }
 ],
 "metadata": {
  "kernelspec": {
   "display_name": "Python 3",
   "language": "python",
   "name": "python3"
  },
  "language_info": {
   "codemirror_mode": {
    "name": "ipython",
    "version": 3
   },
   "file_extension": ".py",
   "mimetype": "text/x-python",
   "name": "python",
   "nbconvert_exporter": "python",
   "pygments_lexer": "ipython3",
   "version": "3.5.2"
  }
 },
 "nbformat": 4,
 "nbformat_minor": 2
}
