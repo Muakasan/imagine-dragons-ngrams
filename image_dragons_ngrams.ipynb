{
 "cells": [
  {
   "cell_type": "code",
   "execution_count": 2,
   "metadata": {
    "collapsed": false
   },
   "outputs": [
    {
     "name": "stdout",
     "output_type": "stream",
     "text": [
      "[Chorus]\n",
      "I'm bleeding out\n",
      "So if the last thing that I do\n",
      "Is bring you down\n",
      "I'll bleed out for you\n",
      "So I bare my skin\n",
      "And I count my sins\n",
      "And I close my eyes\n",
      "And I take it in\n",
      "I’m bleeding out\n",
      "I’m bleeding out for you, for you\n",
      "\n",
      "[Verse 1]\n",
      "When the day has come\n",
      "That I’ve lost my way around\n",
      "And the seasons stop\n",
      "And hide beneath the ground\n",
      "When the sky turns gray\n",
      "And everything is screaming\n",
      "I will reach inside\n",
      "Just to find my heart is beating\n",
      "\n",
      "[Pre-Chorus]\n",
      "Oh, you tell me to hold on\n",
      "Oh, you tell me to hold on\n",
      "But innocence is gone\n",
      "And what was right is wrong\n",
      "\n",
      "[Chorus]\n",
      "'Cause I'm bleeding out\n",
      "So if the last thing that I do\n",
      "Is bring you down\n",
      "I'll bleed out for you\n",
      "So I bare my skin\n",
      "And I count my sins\n",
      "And I close my eyes\n",
      "And I take it in\n",
      "And I’m bleeding out\n",
      "I’m bleeding out for you, for you\n",
      "\n",
      "[Verse 2]\n",
      "When the hour is nigh\n",
      "And hopelessness is sinking in\n",
      "And the wolves all cry\n",
      "To fill the night with hollering\n",
      "When your eyes are red\n",
      "And emptiness is all you know\n",
      "With the darkness fed\n",
      "I will be your scarecrow\n",
      "\n",
      "[Pre-Chorus]\n",
      "You tell me to hold on\n",
      "Oh, you tell me to hold on\n",
      "But innocence is gone\n",
      "And what was right is wrong\n",
      "\n",
      "[Chorus]\n",
      "'Cause I'm bleeding out\n",
      "So if the last thing that I do\n",
      "Is bring you down\n",
      "I'll bleed out for you\n",
      "So I bare my skin\n",
      "And I count my sins\n",
      "And I close my eyes\n",
      "And I take it in\n",
      "And I’m bleeding out\n",
      "I’m bleeding out for you, for you\n",
      "\n",
      "[Bridge]\n",
      "I’m bleeding out for you, for you\n",
      "I’m bleeding out for you, for you\n",
      "I’m bleeding out for you, for you\n",
      "I’m bleeding out for you\n",
      "\n",
      "[Chorus]\n",
      "'Cause I'm bleeding out\n",
      "So if the last thing that I do\n",
      "Is bring you down\n",
      "I'll bleed out for you\n",
      "So I bare my skin\n",
      "And I count my sins\n",
      "And I close my eyes\n",
      "And I take it in\n",
      "And I’m bleeding out\n",
      "I’m bleeding out for you, for you\n"
     ]
    }
   ],
   "source": [
    "with open('Imagine-dragons-bleeding-out-lyrics.txt') as infile:\n",
    "    print(infile.read())"
   ]
  },
  {
   "cell_type": "code",
   "execution_count": null,
   "metadata": {
    "collapsed": true
   },
   "outputs": [],
   "source": []
  }
 ],
 "metadata": {
  "kernelspec": {
   "display_name": "Python 3",
   "language": "python",
   "name": "python3"
  },
  "language_info": {
   "codemirror_mode": {
    "name": "ipython",
    "version": 3
   },
   "file_extension": ".py",
   "mimetype": "text/x-python",
   "name": "python",
   "nbconvert_exporter": "python",
   "pygments_lexer": "ipython3",
   "version": "3.5.2"
  }
 },
 "nbformat": 4,
 "nbformat_minor": 2
}
